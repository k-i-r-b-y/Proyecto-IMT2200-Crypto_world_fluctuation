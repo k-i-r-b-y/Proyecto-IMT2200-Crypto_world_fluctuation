{
 "cells": [
  {
   "cell_type": "markdown",
   "metadata": {},
   "source": [
    "# <img style=\"float: left; padding: 0px 10px 0px 0px;\" src=\"https://upload.wikimedia.org/wikipedia/commons/thumb/8/84/Escudo_de_la_Pontificia_Universidad_Cat%C3%B3lica_de_Chile.svg/1920px-Escudo_de_la_Pontificia_Universidad_Cat%C3%B3lica_de_Chile.svg.png\"  width=\"80\" /> IMT 2200 - Introducción a Ciencia de Datos\n",
    "**Pontificia Universidad Católica de Chile**<br>\n",
    "**Semestre 2022-2**<br>\n",
    "**Profesora:** Paula Aguirre <br>\n",
    "\n",
    "## Electoral Crypto World fluctuation. (Bitcoin)\n",
    "\n",
    "---"
   ]
  },
  {
   "cell_type": "code",
   "execution_count": 236,
   "metadata": {},
   "outputs": [],
   "source": [
    "import pandas as pd"
   ]
  },
  {
   "cell_type": "markdown",
   "metadata": {},
   "source": [
    "Data-frames"
   ]
  },
  {
   "cell_type": "code",
   "execution_count": 237,
   "metadata": {},
   "outputs": [],
   "source": [
    "btc = pd.read_csv(\"divisas\\BTC_USD Bitfinex Historical Data.csv\")\n",
    "cny = pd.read_csv(\"divisas\\CNY_USD Historical Data.csv\")\n",
    "eur = pd.read_csv(\"divisas\\EUR_USD Historical Data.csv\")\n",
    "gbp = pd.read_csv(\"divisas\\GBP_USD Historical Data.csv\")\n",
    "jpy = pd.read_csv(\"divisas\\JPY_USD Historical Data.csv\")"
   ]
  },
  {
   "cell_type": "markdown",
   "metadata": {},
   "source": [
    "Cambiamos a tipos de datos utiles para manipulación"
   ]
  },
  {
   "cell_type": "code",
   "execution_count": 238,
   "metadata": {},
   "outputs": [
    {
     "data": {
      "text/plain": [
       "Index(['Price', 'Open', 'High', 'Low'], dtype='object')"
      ]
     },
     "execution_count": 238,
     "metadata": {},
     "output_type": "execute_result"
    }
   ],
   "source": [
    "div = [btc, cny, eur, gbp, jpy]\n",
    "for d in div:\n",
    "    d.drop(columns=[\"Vol.\", \"Change %\"], inplace=True) #datos innecesarios\n",
    "\n",
    "colums = btc.columns.drop([\"Date\"])\n",
    "for c in colums:\n",
    "    btc[c] = btc[c].str.replace(\",\", \"\")\n",
    "\n",
    "for d in div:\n",
    "    d[\"Date\"] = pd.to_datetime(d[\"Date\"])\n",
    "    for c in colums:\n",
    "        d[c] = d[c].astype(\"float\")\n",
    "colums"
   ]
  },
  {
   "cell_type": "code",
   "execution_count": 239,
   "metadata": {},
   "outputs": [
    {
     "name": "stdout",
     "output_type": "stream",
     "text": [
      "<class 'pandas.core.frame.DataFrame'>\n",
      "RangeIndex: 3940 entries, 0 to 3939\n",
      "Data columns (total 5 columns):\n",
      " #   Column  Non-Null Count  Dtype         \n",
      "---  ------  --------------  -----         \n",
      " 0   Date    3940 non-null   datetime64[ns]\n",
      " 1   Price   3940 non-null   float64       \n",
      " 2   Open    3940 non-null   float64       \n",
      " 3   High    3940 non-null   float64       \n",
      " 4   Low     3940 non-null   float64       \n",
      "dtypes: datetime64[ns](1), float64(4)\n",
      "memory usage: 154.0 KB\n"
     ]
    }
   ],
   "source": [
    "btc.info()"
   ]
  },
  {
   "cell_type": "code",
   "execution_count": 240,
   "metadata": {},
   "outputs": [
    {
     "data": {
      "text/html": [
       "<div>\n",
       "<style scoped>\n",
       "    .dataframe tbody tr th:only-of-type {\n",
       "        vertical-align: middle;\n",
       "    }\n",
       "\n",
       "    .dataframe tbody tr th {\n",
       "        vertical-align: top;\n",
       "    }\n",
       "\n",
       "    .dataframe thead th {\n",
       "        text-align: right;\n",
       "    }\n",
       "</style>\n",
       "<table border=\"1\" class=\"dataframe\">\n",
       "  <thead>\n",
       "    <tr style=\"text-align: right;\">\n",
       "      <th></th>\n",
       "      <th>Date</th>\n",
       "      <th>BTCPrice</th>\n",
       "      <th>BTCOpen</th>\n",
       "      <th>BTCHigh</th>\n",
       "      <th>BTCLow</th>\n",
       "    </tr>\n",
       "  </thead>\n",
       "  <tbody>\n",
       "    <tr>\n",
       "      <th>0</th>\n",
       "      <td>2022-11-19</td>\n",
       "      <td>16739.0</td>\n",
       "      <td>16645.0</td>\n",
       "      <td>16811.0</td>\n",
       "      <td>16600.0</td>\n",
       "    </tr>\n",
       "    <tr>\n",
       "      <th>1</th>\n",
       "      <td>2022-11-18</td>\n",
       "      <td>16634.0</td>\n",
       "      <td>16827.0</td>\n",
       "      <td>16837.0</td>\n",
       "      <td>16550.0</td>\n",
       "    </tr>\n",
       "    <tr>\n",
       "      <th>2</th>\n",
       "      <td>2022-11-17</td>\n",
       "      <td>16705.0</td>\n",
       "      <td>16676.0</td>\n",
       "      <td>16735.0</td>\n",
       "      <td>16413.0</td>\n",
       "    </tr>\n",
       "    <tr>\n",
       "      <th>3</th>\n",
       "      <td>2022-11-16</td>\n",
       "      <td>16531.0</td>\n",
       "      <td>16886.0</td>\n",
       "      <td>17002.0</td>\n",
       "      <td>16384.0</td>\n",
       "    </tr>\n",
       "    <tr>\n",
       "      <th>4</th>\n",
       "      <td>2022-11-15</td>\n",
       "      <td>16886.0</td>\n",
       "      <td>16627.0</td>\n",
       "      <td>17124.0</td>\n",
       "      <td>16554.0</td>\n",
       "    </tr>\n",
       "    <tr>\n",
       "      <th>...</th>\n",
       "      <td>...</td>\n",
       "      <td>...</td>\n",
       "      <td>...</td>\n",
       "      <td>...</td>\n",
       "      <td>...</td>\n",
       "    </tr>\n",
       "    <tr>\n",
       "      <th>3935</th>\n",
       "      <td>2012-02-06</td>\n",
       "      <td>5.4</td>\n",
       "      <td>5.4</td>\n",
       "      <td>5.4</td>\n",
       "      <td>5.4</td>\n",
       "    </tr>\n",
       "    <tr>\n",
       "      <th>3936</th>\n",
       "      <td>2012-02-05</td>\n",
       "      <td>5.7</td>\n",
       "      <td>5.7</td>\n",
       "      <td>5.7</td>\n",
       "      <td>5.7</td>\n",
       "    </tr>\n",
       "    <tr>\n",
       "      <th>3937</th>\n",
       "      <td>2012-02-04</td>\n",
       "      <td>5.9</td>\n",
       "      <td>5.9</td>\n",
       "      <td>5.9</td>\n",
       "      <td>5.9</td>\n",
       "    </tr>\n",
       "    <tr>\n",
       "      <th>3938</th>\n",
       "      <td>2012-02-03</td>\n",
       "      <td>6.0</td>\n",
       "      <td>6.0</td>\n",
       "      <td>6.0</td>\n",
       "      <td>6.0</td>\n",
       "    </tr>\n",
       "    <tr>\n",
       "      <th>3939</th>\n",
       "      <td>2012-02-02</td>\n",
       "      <td>6.1</td>\n",
       "      <td>6.1</td>\n",
       "      <td>6.1</td>\n",
       "      <td>6.1</td>\n",
       "    </tr>\n",
       "  </tbody>\n",
       "</table>\n",
       "<p>3940 rows × 5 columns</p>\n",
       "</div>"
      ],
      "text/plain": [
       "           Date  BTCPrice  BTCOpen  BTCHigh   BTCLow\n",
       "0    2022-11-19   16739.0  16645.0  16811.0  16600.0\n",
       "1    2022-11-18   16634.0  16827.0  16837.0  16550.0\n",
       "2    2022-11-17   16705.0  16676.0  16735.0  16413.0\n",
       "3    2022-11-16   16531.0  16886.0  17002.0  16384.0\n",
       "4    2022-11-15   16886.0  16627.0  17124.0  16554.0\n",
       "...         ...       ...      ...      ...      ...\n",
       "3935 2012-02-06       5.4      5.4      5.4      5.4\n",
       "3936 2012-02-05       5.7      5.7      5.7      5.7\n",
       "3937 2012-02-04       5.9      5.9      5.9      5.9\n",
       "3938 2012-02-03       6.0      6.0      6.0      6.0\n",
       "3939 2012-02-02       6.1      6.1      6.1      6.1\n",
       "\n",
       "[3940 rows x 5 columns]"
      ]
     },
     "execution_count": 240,
     "metadata": {},
     "output_type": "execute_result"
    }
   ],
   "source": [
    "col =[\"Price\", \"Open\", \"High\", \"Low\"]\n",
    "for i in col:\n",
    "    btc = btc.rename({i: f\"BTC{i}\"}, axis=1)\n",
    "    cny = cny.rename({i: f\"CNY{i}\"}, axis=1)\n",
    "    eur = eur.rename({i: f\"EUR{i}\"}, axis=1)\n",
    "    gbp = gbp.rename({i: f\"GBP{i}\"}, axis=1)\n",
    "    jpy = jpy.rename({i: f\"JPY{i}\"}, axis=1)\n",
    "    \n",
    "btc"
   ]
  }
 ],
 "metadata": {
  "kernelspec": {
   "display_name": "Python 3 (ipykernel)",
   "language": "python",
   "name": "python3"
  },
  "language_info": {
   "codemirror_mode": {
    "name": "ipython",
    "version": 3
   },
   "file_extension": ".py",
   "mimetype": "text/x-python",
   "name": "python",
   "nbconvert_exporter": "python",
   "pygments_lexer": "ipython3",
   "version": "3.10.6"
  },
  "vscode": {
   "interpreter": {
    "hash": "48e729d35f4e8922fc5a0c8506825a6ef5fb5d890f1143a8e6d82feeb9bc0a59"
   }
  }
 },
 "nbformat": 4,
 "nbformat_minor": 2
}

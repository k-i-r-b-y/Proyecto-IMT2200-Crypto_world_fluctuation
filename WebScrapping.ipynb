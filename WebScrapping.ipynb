{
 "cells": [
  {
   "cell_type": "code",
   "execution_count": null,
   "metadata": {},
   "outputs": [],
   "source": [
    "from urllib import response\n",
    "import requests as rq\n",
    "from bs4 import BeautifulSoup\n",
    "import pandas as pd\n",
    "import time"
   ]
  },
  {
   "cell_type": "markdown",
   "metadata": {},
   "source": [
    "### WEBSCRAPPING A METACRITIC"
   ]
  },
  {
   "cell_type": "markdown",
   "metadata": {},
   "source": [
    "**Obtenemos los links de cada juego:**"
   ]
  },
  {
   "cell_type": "code",
   "execution_count": null,
   "metadata": {},
   "outputs": [],
   "source": [
    "pages = []\n",
    "page = 0\n",
    "for x in range(100):\n",
    "    pages.append(page)\n",
    "    page += 2\n",
    "\n",
    "links = []\n",
    "for p in pages:\n",
    "    url = f\"https://www.metacritic.com/browse/games/score/metascore/all/all/filtered?page={p}\"\n",
    "    user_agent = {'User-agent': 'Mozilla/5.0'}\n",
    "    response = rq.get(url, headers = user_agent)\n",
    "    soup = BeautifulSoup(response.text, \"html.parser\")\n",
    "\n",
    "    juegos = soup.find_all(\"td\", {\"class\": \"clamp-summary-wrap\"})\n",
    "    for j in juegos:\n",
    "        a = j.find(\"a\", {\"class\": \"title\"})\n",
    "        l = a[\"href\"]\n",
    "        link = (f\"http://www.metacritic.com{l}\")\n",
    "        links.append(link)\n",
    "    time.sleep(0.02)"
   ]
  },
  {
   "cell_type": "markdown",
   "metadata": {},
   "source": [
    "**Obtenemos los datos de cada columna del dataframe**"
   ]
  },
  {
   "cell_type": "code",
   "execution_count": null,
   "metadata": {},
   "outputs": [],
   "source": [
    "nombres = []\n",
    "ratings = []\n",
    "plataforma = []\n",
    "rating_user = []\n",
    "developers = []\n",
    "date = []\n",
    "generos = []\n",
    "resumen = []\n",
    "clasificacion = []\n",
    "players = []\n",
    "\n",
    "for l in links:\n",
    "    time.sleep(0.02)\n",
    "    try:\n",
    "        user_agent = {'User-agent': 'Mozilla/5.0'}\n",
    "        response = rq.get(l, headers = user_agent)\n",
    "        soup = BeautifulSoup(response.text, \"html.parser\")\n",
    "        a = soup.find_all(\"div\", {\"class\":\"product_title\"}) #NOMBRES\n",
    "        for p in a:\n",
    "            nombre = (p.find(\"a\").text.strip())\n",
    "            # nombres.append(p.find(\"a\").text.strip())\n",
    "\n",
    "        a = soup.find_all(\"a\",{\"class\": \"metascore_anchor\"}) #RATINGS\n",
    "        rating = (a[0].text.strip())\n",
    "        # ratings.append(a[0].text.strip())\n",
    "\n",
    "        a = soup.find_all(\"div\", {\"class\":\"product_title\"})  #PLATAFORMA\n",
    "        for p in a:\n",
    "            plataform = (p.find(\"span\").text.strip())\n",
    "            # plataforma.append(p.find(\"span\").text.strip())\n",
    "\n",
    "        a = soup.find_all(\"a\",{\"class\": \"metascore_anchor\"})  #RATINGS USERS\n",
    "        rating_u = (a[1].text.strip())\n",
    "        # rating_user.append(a[1].text.strip())\n",
    "\n",
    "        a = soup.find_all(\"span\",{\"class\": \"data\"})  #DEVELOPERS\n",
    "        for p in a:\n",
    "            developer = (p.find(\"a\").text.strip())\n",
    "            # developers.append(p.find(\"a\").text.strip())\n",
    "            break\n",
    "\n",
    "        a = soup.find_all(\"li\",{\"class\": \"summary_detail release_data\"}) #DATE\n",
    "        for p in a:\n",
    "            fecha = (p.find(\"span\", {\"class\":\"data\"}).text)\n",
    "            # date.append(p.find(\"span\", {\"class\":\"data\"}).text)\n",
    "\n",
    "\n",
    "        a = soup.find_all(\"li\",{\"class\": \"summary_detail product_genre\"}) #GENEROS\n",
    "        for p in a:\n",
    "            genero = (p.find(\"span\", {\"class\":\"data\"}).text)\n",
    "            # generos.append(p.find(\"span\", {\"class\":\"data\"}).text)\n",
    "\n",
    "\n",
    "        a = soup.find_all(\"li\",{\"class\": \"summary_detail product_summary\"})   #RESUMEN\n",
    "        for p in a:\n",
    "            if p.find(\"span\", {\"class\":\"blurb blurb_collapsed\"}) == None:\n",
    "                continue\n",
    "            else:\n",
    "                sinopsis = (p.find(\"span\", {\"class\":\"blurb blurb_collapsed\"}).text.strip())\n",
    "                # resumen[contador] = (p.find(\"span\", {\"class\":\"blurb blurb_collapsed\"}).text.strip())\n",
    "\n",
    "            \n",
    "        for p in a:\n",
    "            if p.find(\"span\", {\"class\":\"data\"}) == None:\n",
    "                continue\n",
    "            else:\n",
    "                sinopsis = (p.find(\"span\", {\"class\":\"data\"}).text.strip())\n",
    "                # resumen[contador] = (p.find(\"span\", {\"class\":\"data\"}).text.strip())\n",
    "        \n",
    "\n",
    "\n",
    "        a = soup.find_all(\"li\",{\"class\": \"summary_detail product_rating\"})     #CLASIFICACION\n",
    "        for p in a:\n",
    "            if p.find(\"span\", {\"class\":\"data\"}) == None:\n",
    "                continue\n",
    "            else:\n",
    "                restric = (p.find(\"span\", {\"class\":\"data\"}).text)\n",
    "                # clasificacion[contador] = (p.find(\"span\", {\"class\":\"data\"}).text)\n",
    "                \n",
    "\n",
    "        a = soup.find_all(\"ul\",{\"class\": \"summary_details\"})  #N_JUGADORES\n",
    "        for p in a:\n",
    "            b = p.find(\"li\", {\"class\": \"summary_detail product_players\"})\n",
    "            if b == None:\n",
    "                continue\n",
    "            else:\n",
    "                c_players = ((b.text.split(\":\")[1].strip()))\n",
    "                # players[contador] = ((b.text.split(\":\")[1].strip()))\n",
    "        \n",
    "        nombres.append(nombre)\n",
    "        ratings.append(rating)\n",
    "        plataforma.append(plataform)\n",
    "        rating_user.append(rating_u)\n",
    "        developers.append(developer)\n",
    "        date.append(fecha)\n",
    "        generos.append(genero)\n",
    "        resumen.append(sinopsis)  ###\n",
    "        clasificacion.append(restric)\n",
    "        players.append(c_players)\n",
    "\n",
    "        \n",
    "    except:\n",
    "        continue"
   ]
  },
  {
   "cell_type": "markdown",
   "metadata": {},
   "source": [
    "**Definimos el dataframe**"
   ]
  },
  {
   "cell_type": "code",
   "execution_count": null,
   "metadata": {},
   "outputs": [],
   "source": [
    "df_games = pd.DataFrame()\n",
    "df_games[\"Nombre\"] = nombres\n",
    "df_games[\"Rating_Meta\"] = ratings\n",
    "df_games[\"Rating_Usuarios\"] = rating_user\n",
    "df_games[\"Plataforma\"] = plataforma\n",
    "df_games[\"Developer\"] = developers\n",
    "df_games[\"Fecha\"] = date\n",
    "df_games[\"Genero\"] = generos\n",
    "df_games[\"Resumen\"] = resumen\n",
    "df_games[\"N_jugadores\"] = players\n",
    "df_games[\"Clasificacion\"] = clasificacion\n",
    "df_games"
   ]
  },
  {
   "cell_type": "markdown",
   "metadata": {},
   "source": [
    "**Almacenamos los datos localmente:**"
   ]
  },
  {
   "cell_type": "code",
   "execution_count": null,
   "metadata": {},
   "outputs": [],
   "source": [
    "df_games.to_csv(\"datos_metacritic.csv\", index=False)"
   ]
  }
 ],
 "metadata": {
  "kernelspec": {
   "display_name": "Python 3.10.6 64-bit",
   "language": "python",
   "name": "python3"
  },
  "language_info": {
   "name": "python",
   "version": "3.10.6"
  },
  "orig_nbformat": 4,
  "vscode": {
   "interpreter": {
    "hash": "48e729d35f4e8922fc5a0c8506825a6ef5fb5d890f1143a8e6d82feeb9bc0a59"
   }
  }
 },
 "nbformat": 4,
 "nbformat_minor": 2
}

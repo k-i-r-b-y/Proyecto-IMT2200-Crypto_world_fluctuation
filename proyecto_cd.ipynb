{
 "cells": [
  {
   "cell_type": "code",
   "execution_count": 88,
   "metadata": {},
   "outputs": [],
   "source": [
    "from urllib import response\n",
    "import requests as rq\n",
    "from bs4 import BeautifulSoup\n",
    "import pandas as pd"
   ]
  },
  {
   "cell_type": "markdown",
   "metadata": {},
   "source": [
    "**WEBSCRAPPING A METACRITIC**"
   ]
  },
  {
   "cell_type": "code",
   "execution_count": 106,
   "metadata": {},
   "outputs": [],
   "source": [
    "pages = [0, 50, 100, 150, 198]\n",
    "links = []\n",
    "for i in pages:\n",
    "    url = f\"https://www.metacritic.com/browse/games/score/metascore/all/all/filtered?page={i}\"\n",
    "    user_agent = {'User-agent': 'Mozilla/5.0'}\n",
    "    response = rq.get(url, headers = user_agent)\n",
    "    soup = BeautifulSoup(response.text, \"html.parser\")\n",
    "\n",
    "    juegos = soup.find_all(\"td\", {\"class\": \"clamp-summary-wrap\"})\n",
    "    for j in juegos:\n",
    "        a = j.find(\"a\", {\"class\": \"title\"})\n",
    "        l = a[\"href\"]\n",
    "        link = (f\"http://www.metacritic.com{l}\")\n",
    "        links.append(link)"
   ]
  },
  {
   "cell_type": "markdown",
   "metadata": {},
   "source": [
    "**Nombres**"
   ]
  },
  {
   "cell_type": "code",
   "execution_count": 90,
   "metadata": {},
   "outputs": [],
   "source": [
    "nombres = []\n",
    "for l in links:\n",
    "    user_agent = {'User-agent': 'Mozilla/5.0'}\n",
    "    response = rq.get(l, headers = user_agent)\n",
    "    soup = BeautifulSoup(response.text, \"html.parser\")\n",
    "    a = soup.find_all(\"div\", {\"class\":\"product_title\"})\n",
    "    for p in a:\n",
    "        nombres.append(p.find(\"a\").text.strip())"
   ]
  },
  {
   "cell_type": "markdown",
   "metadata": {},
   "source": [
    "**Ratings (META)**"
   ]
  },
  {
   "cell_type": "code",
   "execution_count": 91,
   "metadata": {},
   "outputs": [],
   "source": [
    "ratings = []\n",
    "for l in links:\n",
    "    user_agent = {'User-agent': 'Mozilla/5.0'}\n",
    "    response = rq.get(l, headers = user_agent)\n",
    "    soup = BeautifulSoup(response.text, \"html.parser\")\n",
    "    a = soup.find_all(\"a\",{\"class\": \"metascore_anchor\"})\n",
    "    ratings.append(a[0].text.strip())"
   ]
  },
  {
   "cell_type": "markdown",
   "metadata": {},
   "source": [
    "**Plataforma**"
   ]
  },
  {
   "cell_type": "code",
   "execution_count": 92,
   "metadata": {},
   "outputs": [],
   "source": [
    "plataforma = []\n",
    "for l in links:\n",
    "    user_agent = {'User-agent': 'Mozilla/5.0'}\n",
    "    response = rq.get(l, headers = user_agent)\n",
    "    soup = BeautifulSoup(response.text, \"html.parser\")\n",
    "    a = soup.find_all(\"div\", {\"class\":\"product_title\"})\n",
    "    for p in a:\n",
    "        plataforma.append(p.find(\"span\").text.strip())"
   ]
  },
  {
   "cell_type": "markdown",
   "metadata": {},
   "source": [
    "**RATING (USERS)**"
   ]
  },
  {
   "cell_type": "code",
   "execution_count": 93,
   "metadata": {},
   "outputs": [],
   "source": [
    "rating_user = []\n",
    "for l in links:\n",
    "    user_agent = {'User-agent': 'Mozilla/5.0'}\n",
    "    response = rq.get(l, headers = user_agent)\n",
    "    soup = BeautifulSoup(response.text, \"html.parser\")\n",
    "    a = soup.find_all(\"a\",{\"class\": \"metascore_anchor\"})\n",
    "    rating_user.append(a[1].text.strip())"
   ]
  },
  {
   "cell_type": "markdown",
   "metadata": {},
   "source": [
    "**DEVELOPER**"
   ]
  },
  {
   "cell_type": "code",
   "execution_count": 94,
   "metadata": {},
   "outputs": [],
   "source": [
    "developers = []\n",
    "for l in links:\n",
    "    user_agent = {'User-agent': 'Mozilla/5.0'}\n",
    "    response = rq.get(l, headers = user_agent)\n",
    "    soup = BeautifulSoup(response.text, \"html.parser\")\n",
    "    a = soup.find_all(\"span\",{\"class\": \"data\"})\n",
    "    for p in a:\n",
    "        developers.append(p.find(\"a\").text.strip())\n",
    "        break"
   ]
  },
  {
   "cell_type": "markdown",
   "metadata": {},
   "source": [
    "**FECHA**"
   ]
  },
  {
   "cell_type": "code",
   "execution_count": 95,
   "metadata": {},
   "outputs": [],
   "source": [
    "date = []\n",
    "for l in links:\n",
    "    user_agent = {'User-agent': 'Mozilla/5.0'}\n",
    "    response = rq.get(l, headers = user_agent)\n",
    "    soup = BeautifulSoup(response.text, \"html.parser\")\n",
    "    a = soup.find_all(\"li\",{\"class\": \"summary_detail release_data\"})\n",
    "    for p in a:\n",
    "        date.append(p.find(\"span\", {\"class\":\"data\"}).text)"
   ]
  },
  {
   "cell_type": "markdown",
   "metadata": {},
   "source": [
    "**GENEROS**"
   ]
  },
  {
   "cell_type": "code",
   "execution_count": 97,
   "metadata": {},
   "outputs": [],
   "source": [
    "generos = []\n",
    "for l in links:\n",
    "    user_agent = {'User-agent': 'Mozilla/5.0'}\n",
    "    response = rq.get(l, headers = user_agent)\n",
    "    soup = BeautifulSoup(response.text, \"html.parser\")\n",
    "    a = soup.find_all(\"li\",{\"class\": \"summary_detail product_genre\"})\n",
    "    for p in a:\n",
    "        generos.append(p.find(\"span\", {\"class\":\"data\"}).text)"
   ]
  },
  {
   "cell_type": "markdown",
   "metadata": {},
   "source": [
    "**RESUMEN**"
   ]
  },
  {
   "cell_type": "markdown",
   "metadata": {},
   "source": [
    "**(ALGUNOS JUEGOS NO TIENEN DESCRIPCION)**"
   ]
  },
  {
   "cell_type": "code",
   "execution_count": 98,
   "metadata": {},
   "outputs": [
    {
     "name": "stdout",
     "output_type": "stream",
     "text": [
      "466\n"
     ]
    }
   ],
   "source": [
    "resumen = []\n",
    "for l in range(len(links)):\n",
    "    resumen.append(\"\")\n",
    "\n",
    "contador = 0\n",
    "for l in links:\n",
    "    user_agent = {'User-agent': 'Mozilla/5.0'}\n",
    "    response = rq.get(l, headers = user_agent)\n",
    "    soup = BeautifulSoup(response.text, \"html.parser\")\n",
    "    a = soup.find_all(\"li\",{\"class\": \"summary_detail product_summary\"})\n",
    "    for p in a:\n",
    "        if p.find(\"span\", {\"class\":\"blurb blurb_collapsed\"}) == None:\n",
    "            continue\n",
    "        else:\n",
    "            resumen[contador] = (p.find(\"span\", {\"class\":\"blurb blurb_collapsed\"}).text.strip())\n",
    "\n",
    "        \n",
    "    for p in a:\n",
    "        if p.find(\"span\", {\"class\":\"data\"}) == None:\n",
    "            continue\n",
    "        else:\n",
    "            resumen[contador] = (p.find(\"span\", {\"class\":\"data\"}).text.strip())\n",
    "            \n",
    "    contador += 1\n",
    "print(len(resumen))"
   ]
  },
  {
   "cell_type": "markdown",
   "metadata": {},
   "source": [
    "**CLASIFICACION**"
   ]
  },
  {
   "cell_type": "code",
   "execution_count": 101,
   "metadata": {},
   "outputs": [
    {
     "name": "stdout",
     "output_type": "stream",
     "text": [
      "466\n"
     ]
    }
   ],
   "source": [
    "clasificacion = []\n",
    "for l in range(len(links)):\n",
    "    clasificacion.append(\"\")\n",
    "\n",
    "contador = 0\n",
    "for l in links:\n",
    "    user_agent = {'User-agent': 'Mozilla/5.0'}\n",
    "    response = rq.get(l, headers = user_agent)\n",
    "    soup = BeautifulSoup(response.text, \"html.parser\")\n",
    "    a = soup.find_all(\"li\",{\"class\": \"summary_detail product_rating\"})\n",
    "    for p in a:\n",
    "        if p.find(\"span\", {\"class\":\"data\"}) == None:\n",
    "            continue\n",
    "        else:\n",
    "            clasificacion[contador] = (p.find(\"span\", {\"class\":\"data\"}).text)\n",
    "    contador += 1"
   ]
  },
  {
   "cell_type": "markdown",
   "metadata": {},
   "source": [
    "**numero de jugadores**"
   ]
  },
  {
   "cell_type": "markdown",
   "metadata": {},
   "source": [
    "NUlOS = \"\""
   ]
  },
  {
   "cell_type": "code",
   "execution_count": 102,
   "metadata": {},
   "outputs": [
    {
     "name": "stdout",
     "output_type": "stream",
     "text": [
      "466\n"
     ]
    }
   ],
   "source": [
    "players = []\n",
    "for x in range(len(links)):\n",
    "    players.append(\"\")\n",
    "\n",
    "\n",
    "contador = 0\n",
    "for l in links:\n",
    "    user_agent = {'User-agent': 'Mozilla/5.0'}\n",
    "    response = rq.get(l, headers = user_agent)\n",
    "    soup = BeautifulSoup(response.text, \"html.parser\")\n",
    "    a = soup.find_all(\"ul\",{\"class\": \"summary_details\"})\n",
    "    for p in a:\n",
    "        b = p.find(\"li\", {\"class\": \"summary_detail product_players\"})\n",
    "        if b == None:\n",
    "            continue\n",
    "        else:\n",
    "            players[contador] = ((b.text.split(\":\")[1].strip()))\n",
    "    contador +=1"
   ]
  },
  {
   "cell_type": "code",
   "execution_count": 103,
   "metadata": {},
   "outputs": [
    {
     "data": {
      "text/html": [
       "<div>\n",
       "<style scoped>\n",
       "    .dataframe tbody tr th:only-of-type {\n",
       "        vertical-align: middle;\n",
       "    }\n",
       "\n",
       "    .dataframe tbody tr th {\n",
       "        vertical-align: top;\n",
       "    }\n",
       "\n",
       "    .dataframe thead th {\n",
       "        text-align: right;\n",
       "    }\n",
       "</style>\n",
       "<table border=\"1\" class=\"dataframe\">\n",
       "  <thead>\n",
       "    <tr style=\"text-align: right;\">\n",
       "      <th></th>\n",
       "      <th>Nombre</th>\n",
       "      <th>Rating_Meta</th>\n",
       "      <th>Rating_Usuarios</th>\n",
       "      <th>Plataforma</th>\n",
       "      <th>Developer</th>\n",
       "      <th>Fecha</th>\n",
       "      <th>Genero</th>\n",
       "      <th>Resumen</th>\n",
       "      <th>N_jugadores</th>\n",
       "      <th>Clasificacion</th>\n",
       "    </tr>\n",
       "  </thead>\n",
       "  <tbody>\n",
       "    <tr>\n",
       "      <th>0</th>\n",
       "      <td>The Legend of Zelda: Ocarina of Time</td>\n",
       "      <td>99</td>\n",
       "      <td>9.1</td>\n",
       "      <td>Nintendo 64</td>\n",
       "      <td>Nintendo</td>\n",
       "      <td>Nov 23, 1998</td>\n",
       "      <td>Action Adventure</td>\n",
       "      <td>As a young boy, Link is tricked by Ganondorf, ...</td>\n",
       "      <td>1 Player</td>\n",
       "      <td>E</td>\n",
       "    </tr>\n",
       "    <tr>\n",
       "      <th>1</th>\n",
       "      <td>Tony Hawk's Pro Skater 2</td>\n",
       "      <td>98</td>\n",
       "      <td>7.4</td>\n",
       "      <td>PlayStation</td>\n",
       "      <td>Activision</td>\n",
       "      <td>Sep 20, 2000</td>\n",
       "      <td>Sports</td>\n",
       "      <td>As most major publishers' development efforts ...</td>\n",
       "      <td>1-2</td>\n",
       "      <td>T</td>\n",
       "    </tr>\n",
       "    <tr>\n",
       "      <th>2</th>\n",
       "      <td>Grand Theft Auto IV</td>\n",
       "      <td>98</td>\n",
       "      <td>7.8</td>\n",
       "      <td>PlayStation 3</td>\n",
       "      <td>Rockstar Games</td>\n",
       "      <td>Apr 29, 2008</td>\n",
       "      <td>Action Adventure</td>\n",
       "      <td>[Metacritic's 2008 PS3 Game of the Year; Also ...</td>\n",
       "      <td>1 Player</td>\n",
       "      <td>M</td>\n",
       "    </tr>\n",
       "    <tr>\n",
       "      <th>3</th>\n",
       "      <td>SoulCalibur</td>\n",
       "      <td>98</td>\n",
       "      <td>8.4</td>\n",
       "      <td>Dreamcast</td>\n",
       "      <td>Namco</td>\n",
       "      <td>Sep  8, 1999</td>\n",
       "      <td>Action</td>\n",
       "      <td>This is a tale of souls and swords, transcendi...</td>\n",
       "      <td>1-2</td>\n",
       "      <td>T</td>\n",
       "    </tr>\n",
       "    <tr>\n",
       "      <th>4</th>\n",
       "      <td>Grand Theft Auto IV</td>\n",
       "      <td>98</td>\n",
       "      <td>8.0</td>\n",
       "      <td>Xbox 360</td>\n",
       "      <td>Rockstar Games</td>\n",
       "      <td>Apr 29, 2008</td>\n",
       "      <td>Action Adventure</td>\n",
       "      <td>[Metacritic's 2008 Xbox 360 Game of the Year; ...</td>\n",
       "      <td>1 Player</td>\n",
       "      <td>M</td>\n",
       "    </tr>\n",
       "    <tr>\n",
       "      <th>...</th>\n",
       "      <td>...</td>\n",
       "      <td>...</td>\n",
       "      <td>...</td>\n",
       "      <td>...</td>\n",
       "      <td>...</td>\n",
       "      <td>...</td>\n",
       "      <td>...</td>\n",
       "      <td>...</td>\n",
       "      <td>...</td>\n",
       "      <td>...</td>\n",
       "    </tr>\n",
       "    <tr>\n",
       "      <th>461</th>\n",
       "      <td>Vroom in the Night Sky</td>\n",
       "      <td>17</td>\n",
       "      <td>3.2</td>\n",
       "      <td>Switch</td>\n",
       "      <td>Poisoft</td>\n",
       "      <td>Apr  5, 2017</td>\n",
       "      <td>Sports</td>\n",
       "      <td>Vroom in the night sky is a magical bike actio...</td>\n",
       "      <td>No Online Multiplayer</td>\n",
       "      <td>E</td>\n",
       "    </tr>\n",
       "    <tr>\n",
       "      <th>462</th>\n",
       "      <td>Leisure Suit Larry: Box Office Bust</td>\n",
       "      <td>17</td>\n",
       "      <td>1.9</td>\n",
       "      <td>PlayStation 3</td>\n",
       "      <td>Funsta</td>\n",
       "      <td>May  5, 2009</td>\n",
       "      <td>Action Adventure</td>\n",
       "      <td>The Leisure Suit Larry: Box Office Bust video ...</td>\n",
       "      <td>No Online Multiplayer</td>\n",
       "      <td>M</td>\n",
       "    </tr>\n",
       "    <tr>\n",
       "      <th>463</th>\n",
       "      <td>Yaris</td>\n",
       "      <td>17</td>\n",
       "      <td>4.4</td>\n",
       "      <td>Xbox 360</td>\n",
       "      <td>Backbone Entertainment</td>\n",
       "      <td>Oct 10, 2007</td>\n",
       "      <td>Driving</td>\n",
       "      <td>[Xbox Live Arcade]  Hop into a Toyota Yaris an...</td>\n",
       "      <td>2  Online</td>\n",
       "      <td>E10+</td>\n",
       "    </tr>\n",
       "    <tr>\n",
       "      <th>464</th>\n",
       "      <td>Ride to Hell: Retribution</td>\n",
       "      <td>16</td>\n",
       "      <td>1.4</td>\n",
       "      <td>PC</td>\n",
       "      <td>Deep Silver</td>\n",
       "      <td>Jun 24, 2013</td>\n",
       "      <td>Driving</td>\n",
       "      <td>The game is set in the last years of the roari...</td>\n",
       "      <td></td>\n",
       "      <td>M</td>\n",
       "    </tr>\n",
       "    <tr>\n",
       "      <th>465</th>\n",
       "      <td>Family Party: 30 Great Games Obstacle Arcade</td>\n",
       "      <td>11</td>\n",
       "      <td>2.6</td>\n",
       "      <td>Wii U</td>\n",
       "      <td>D3Publisher</td>\n",
       "      <td>Dec  4, 2012</td>\n",
       "      <td>Miscellaneous</td>\n",
       "      <td>Family Party: 30 Great Games Obstacle Arcade b...</td>\n",
       "      <td>No Online Multiplayer</td>\n",
       "      <td>E</td>\n",
       "    </tr>\n",
       "  </tbody>\n",
       "</table>\n",
       "<p>466 rows × 10 columns</p>\n",
       "</div>"
      ],
      "text/plain": [
       "                                           Nombre Rating_Meta Rating_Usuarios  \\\n",
       "0            The Legend of Zelda: Ocarina of Time          99             9.1   \n",
       "1                        Tony Hawk's Pro Skater 2          98             7.4   \n",
       "2                             Grand Theft Auto IV          98             7.8   \n",
       "3                                     SoulCalibur          98             8.4   \n",
       "4                             Grand Theft Auto IV          98             8.0   \n",
       "..                                            ...         ...             ...   \n",
       "461                        Vroom in the Night Sky          17             3.2   \n",
       "462           Leisure Suit Larry: Box Office Bust          17             1.9   \n",
       "463                                         Yaris          17             4.4   \n",
       "464                     Ride to Hell: Retribution          16             1.4   \n",
       "465  Family Party: 30 Great Games Obstacle Arcade          11             2.6   \n",
       "\n",
       "        Plataforma               Developer         Fecha            Genero  \\\n",
       "0      Nintendo 64                Nintendo  Nov 23, 1998  Action Adventure   \n",
       "1      PlayStation              Activision  Sep 20, 2000            Sports   \n",
       "2    PlayStation 3          Rockstar Games  Apr 29, 2008  Action Adventure   \n",
       "3        Dreamcast                   Namco  Sep  8, 1999            Action   \n",
       "4         Xbox 360          Rockstar Games  Apr 29, 2008  Action Adventure   \n",
       "..             ...                     ...           ...               ...   \n",
       "461         Switch                 Poisoft  Apr  5, 2017            Sports   \n",
       "462  PlayStation 3                  Funsta  May  5, 2009  Action Adventure   \n",
       "463       Xbox 360  Backbone Entertainment  Oct 10, 2007           Driving   \n",
       "464             PC             Deep Silver  Jun 24, 2013           Driving   \n",
       "465          Wii U             D3Publisher  Dec  4, 2012     Miscellaneous   \n",
       "\n",
       "                                               Resumen            N_jugadores  \\\n",
       "0    As a young boy, Link is tricked by Ganondorf, ...               1 Player   \n",
       "1    As most major publishers' development efforts ...                    1-2   \n",
       "2    [Metacritic's 2008 PS3 Game of the Year; Also ...               1 Player   \n",
       "3    This is a tale of souls and swords, transcendi...                    1-2   \n",
       "4    [Metacritic's 2008 Xbox 360 Game of the Year; ...               1 Player   \n",
       "..                                                 ...                    ...   \n",
       "461  Vroom in the night sky is a magical bike actio...  No Online Multiplayer   \n",
       "462  The Leisure Suit Larry: Box Office Bust video ...  No Online Multiplayer   \n",
       "463  [Xbox Live Arcade]  Hop into a Toyota Yaris an...              2  Online   \n",
       "464  The game is set in the last years of the roari...                          \n",
       "465  Family Party: 30 Great Games Obstacle Arcade b...  No Online Multiplayer   \n",
       "\n",
       "    Clasificacion  \n",
       "0               E  \n",
       "1               T  \n",
       "2               M  \n",
       "3               T  \n",
       "4               M  \n",
       "..            ...  \n",
       "461             E  \n",
       "462             M  \n",
       "463          E10+  \n",
       "464             M  \n",
       "465             E  \n",
       "\n",
       "[466 rows x 10 columns]"
      ]
     },
     "execution_count": 103,
     "metadata": {},
     "output_type": "execute_result"
    }
   ],
   "source": [
    "df_games = pd.DataFrame()\n",
    "df_games[\"Nombre\"] = nombres\n",
    "df_games[\"Rating_Meta\"] = ratings\n",
    "df_games[\"Rating_Usuarios\"] = rating_user\n",
    "df_games[\"Plataforma\"] = plataforma\n",
    "df_games[\"Developer\"] = developers\n",
    "df_games[\"Fecha\"] = date\n",
    "df_games[\"Genero\"] = generos\n",
    "df_games[\"Resumen\"] = resumen\n",
    "df_games[\"N_jugadores\"] = players\n",
    "df_games[\"Clasificacion\"] = clasificacion\n",
    "df_games"
   ]
  }
 ],
 "metadata": {
  "kernelspec": {
   "display_name": "Python 3.10.6 64-bit",
   "language": "python",
   "name": "python3"
  },
  "language_info": {
   "codemirror_mode": {
    "name": "ipython",
    "version": 3
   },
   "file_extension": ".py",
   "mimetype": "text/x-python",
   "name": "python",
   "nbconvert_exporter": "python",
   "pygments_lexer": "ipython3",
   "version": "3.10.6"
  },
  "orig_nbformat": 4,
  "vscode": {
   "interpreter": {
    "hash": "48e729d35f4e8922fc5a0c8506825a6ef5fb5d890f1143a8e6d82feeb9bc0a59"
   }
  }
 },
 "nbformat": 4,
 "nbformat_minor": 2
}
